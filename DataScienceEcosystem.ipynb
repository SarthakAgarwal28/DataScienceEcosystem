{
 "cells": [
  {
   "cell_type": "markdown",
   "id": "9b5bd2e6",
   "metadata": {},
   "source": [
    "# Exercise 1: Create a Jupyter Notebook\n",
    "Create a new Jupyter notebook called DataScienceEcosystem.ipynb"
   ]
  },
  {
   "cell_type": "markdown",
   "id": "fe0339ae",
   "metadata": {},
   "source": [
    "# Exercise 2: Create markdown cell with title of the notebook"
   ]
  },
  {
   "cell_type": "markdown",
   "id": "baaf288a",
   "metadata": {},
   "source": [
    "Data Science Tools and Ecosystem"
   ]
  },
  {
   "cell_type": "markdown",
   "id": "fd3071c2",
   "metadata": {},
   "source": [
    "# Exercise 3 - Create a markdown cell for an introduction"
   ]
  },
  {
   "cell_type": "markdown",
   "id": "059546ae",
   "metadata": {},
   "source": [
    "In this notebook, Data Science Tools and Ecosystem are summarized.\n",
    " Objectives:\n",
    "- List popular languages that Data Scientists use.\n",
    "- List commonly used libraries used by Data Scientists.\n",
    "- Comment on Data Science tools."
   ]
  },
  {
   "cell_type": "markdown",
   "id": "91134e98",
   "metadata": {},
   "source": [
    "# Exercise 4 - Create a markdown cell to list data science languages"
   ]
  },
  {
   "cell_type": "markdown",
   "id": "58ebde98",
   "metadata": {},
   "source": [
    " Some of the popular languages that Data Scientists use are:\n",
    "1. Python\n",
    "2. R\n",
    "3. SQL\n",
    "4. Java\n",
    "5. Julia\n",
    "6. Scala\n",
    "7. C/C++\n",
    "8. JavaScript"
   ]
  },
  {
   "cell_type": "markdown",
   "id": "1f5e0e63",
   "metadata": {},
   "source": [
    "# Exercise 5 - Create a markdown cell to list data science libraries"
   ]
  },
  {
   "cell_type": "code",
   "execution_count": null,
   "id": "1d202827",
   "metadata": {},
   "outputs": [],
   "source": [
    " Some of the commonly used libraries used by Data Scientists include:\n",
    "1. TensorFlow\n",
    "2. NumPy\n",
    "3. SciPy\n",
    "4. Pandas\n",
    "5. Matplotlib\n",
    "6. Keras\n",
    "7. SciKit-Learn\n",
    "8. PyTorch\n",
    "9. OpenCV\n",
    "10. BeautifulSoup\n",
    "11. Pycaret\n",
    "12. PyBrain\n",
    "13. Scrapy\n",
    "14. Plotly\n",
    "15. Seaborn"
   ]
  },
  {
   "cell_type": "markdown",
   "id": "52839903",
   "metadata": {},
   "source": [
    "# Exercise 6 - Create a markdown cell with a table of Data Science tools"
   ]
  },
  {
   "cell_type": "markdown",
   "id": "492dfa0a",
   "metadata": {},
   "source": [
    "<table style=\"width:100%\", align= right>\n",
    "  <tr>\n",
    "    <th>No.</th>\n",
    "    <th>Data Science Tools</th>\n",
    "    <th>Uses</th>\n",
    "  </tr>\n",
    "  <tr>\n",
    "    <td>1. </td>\n",
    "    <td>SAS(Statistical Software) </td>\n",
    "    <td>Statistical analysis, advanced analytics, and predictive modeling</td>\n",
    "  </tr>\n",
    "  <tr>\n",
    "    <td>2. </td>\n",
    "    <td>Apache Spark</td>\n",
    "    <td>Big data processing, distributed computing, real-time analytics</td>\n",
    "  </tr>\n",
    "  <tr>\n",
    "    <td>3. </td>\n",
    "    <td>Apache Hadoop</td>\n",
    "    <td>Big data processing, distributed computing, realtime analytics</td>\n",
    "  </tr>\n",
    "  <tr>\n",
    "    <td>4. </td>\n",
    "    <td>Tableau </td>\n",
    "    <td> Data visualization, dashboards, business intelligence</td>\n",
    "  </tr>\n",
    "  <tr>\n",
    "    <td>5. </td>\n",
    "    <td>Microsoft Power BI </td>\n",
    "    <td>Self-service analytics, business intelligence, data visualization</td>\n",
    "  </tr>\n",
    "</table>"
   ]
  },
  {
   "cell_type": "markdown",
   "id": "d8a37b28",
   "metadata": {},
   "source": [
    "# Exercise 7 - Create a markdown cell introducing arithmetic expression examples"
   ]
  },
  {
   "cell_type": "markdown",
   "id": "ab548a2d",
   "metadata": {},
   "source": [
    "<h3>Below are a few examples of evaluating arithmetic expressions in Python.</h3>"
   ]
  },
  {
   "cell_type": "code",
   "execution_count": 11,
   "id": "0115c1f9",
   "metadata": {},
   "outputs": [
    {
     "name": "stdout",
     "output_type": "stream",
     "text": [
      "20.0\n"
     ]
    }
   ],
   "source": [
    "code =(25 + 15)/2\n",
    "print(code)"
   ]
  },
  {
   "cell_type": "code",
   "execution_count": 12,
   "id": "1fe82f3b",
   "metadata": {},
   "outputs": [
    {
     "name": "stdout",
     "output_type": "stream",
     "text": [
      "42\n"
     ]
    }
   ],
   "source": [
    "code1 = (2 + 5) * 6\n",
    "print(code1)"
   ]
  },
  {
   "cell_type": "code",
   "execution_count": 9,
   "id": "38e5e147",
   "metadata": {},
   "outputs": [
    {
     "name": "stdout",
     "output_type": "stream",
     "text": [
      "24.0\n"
     ]
    }
   ],
   "source": [
    "result = ((3 + 5) * 6) / 2\n",
    "print(result)"
   ]
  },
  {
   "cell_type": "markdown",
   "id": "15281c79",
   "metadata": {},
   "source": [
    "# Exercise 8 - Create a code cell to multiply and add numbers.(2 pts)"
   ]
  },
  {
   "cell_type": "code",
   "execution_count": 15,
   "id": "5d1ef1bf",
   "metadata": {},
   "outputs": [
    {
     "data": {
      "text/plain": [
       "17"
      ]
     },
     "execution_count": 15,
     "metadata": {},
     "output_type": "execute_result"
    }
   ],
   "source": [
    "# This a simple arithmetic expression to mutiply then add integers\n",
    "(3*4)+5"
   ]
  },
  {
   "cell_type": "markdown",
   "id": "fd8fff67",
   "metadata": {},
   "source": [
    "# Exercise 9 - Create a code cell to convert minutes to hours. (2 pts)"
   ]
  },
  {
   "cell_type": "code",
   "execution_count": 16,
   "id": "a494c29b",
   "metadata": {},
   "outputs": [
    {
     "name": "stdout",
     "output_type": "stream",
     "text": [
      "0 days, 3.3333333333333335 hours, 0 mins. \n"
     ]
    }
   ],
   "source": [
    "# This will convert 200 minutes to hours by diving by 60\n",
    "\n",
    "days = 0\n",
    "hours = 0\n",
    "mins = 0\n",
    "\n",
    "time = 200\n",
    "#days = time / 1440\n",
    "leftover_minutes = time % 1440\n",
    "hours = leftover_minutes / 60\n",
    "#mins = time - (days*1440) - (hours*60)\n",
    "print(str(days) + \" days, \" + str(hours) + \" hours, \" + str(mins) +  \" mins. \")"
   ]
  },
  {
   "attachments": {},
   "cell_type": "markdown",
   "id": "3c5ca6d3",
   "metadata": {},
   "source": [
    "# Exercise 10 -Insert a markdown cell to list objectives."
   ]
  },
  {
   "cell_type": "markdown",
   "id": "2b742c80",
   "metadata": {},
   "source": [
    "Done above"
   ]
  },
  {
   "cell_type": "markdown",
   "id": "3b9ca78a",
   "metadata": {},
   "source": [
    "# Exercise 11 - Create a markdown cell to indicate the Author’s name."
   ]
  },
  {
   "cell_type": "markdown",
   "id": "2e23cbba",
   "metadata": {},
   "source": [
    "<h3>Author</h3>\n",
    "SARTHAK AGARWAL"
   ]
  }
 ],
 "metadata": {
  "kernelspec": {
   "display_name": "Python 3 (ipykernel)",
   "language": "python",
   "name": "python3"
  },
  "language_info": {
   "codemirror_mode": {
    "name": "ipython",
    "version": 3
   },
   "file_extension": ".py",
   "mimetype": "text/x-python",
   "name": "python",
   "nbconvert_exporter": "python",
   "pygments_lexer": "ipython3",
   "version": "3.9.7"
  }
 },
 "nbformat": 4,
 "nbformat_minor": 5
}
